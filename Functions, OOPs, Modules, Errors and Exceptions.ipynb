{
 "cells": [
  {
   "cell_type": "code",
   "execution_count": null,
   "metadata": {},
   "outputs": [],
   "source": [
    "#Compute the distance of current position after sequence of movements\n",
    "def distace_covered(start_point,direction_dic):\n",
    "    print(direction_dic.items())\n",
    "    for key,value in direction_dic.items():\n",
    "        if key.upper() == \"UP\":\n",
    "            start_point[1]+=int(direction_dic.get(key))\n",
    "        elif key.upper() == \"DOWN\":\n",
    "            start_point[1]-=int(direction_dic.get(key))\n",
    "        elif key.upper() == \"LEFT\":\n",
    "            start_point[0]-=int(direction_dic.get(key))\n",
    "        elif key.upper() == \"RIGHT\":\n",
    "            start_point[0]+=int(direction_dic.get(key))\n",
    "        else:\n",
    "            pass\n",
    "    return start_point\n",
    "import math\n",
    "origin = list(map(int,input(\"Enter the Origin points separated by Commas\").split(\",\")))\n",
    "end_point = list(origin)\n",
    "while True:\n",
    "    flag = input(\"Do you want enter directions\")\n",
    "    if flag.upper() == 'Y':\n",
    "        movements = input(\"Enter the direction name and direction value Separated by Commas\").split(\",\")\n",
    "        directions=[]\n",
    "        direc_values=[]\n",
    "        for each in movements:\n",
    "            if movements.index(each)%2==0:\n",
    "                directions.append(each)\n",
    "            else:\n",
    "                direc_values.append(each)\n",
    "        direction_dic = dict(zip(directions, direc_values))\n",
    "        curr_org = distace_covered(end_point,direction_dic)\n",
    "        end_point = curr_org\n",
    "    else:\n",
    "        break\n",
    "print(origin,end_point)\n",
    "print(math.sqrt((end_point[0]-origin[0])**2+(end_point[1]-origin[1])**2))"
   ]
  },
  {
   "cell_type": "code",
   "execution_count": 1,
   "metadata": {},
   "outputs": [
    {
     "name": "stdout",
     "output_type": "stream",
     "text": [
      "what data you want to check?IT\n",
      "Data is found\n"
     ]
    }
   ],
   "source": [
    "#Search specific data from list\n",
    "def search(req_data,sorted_data):\n",
    "    found = False\n",
    "    for each in sorted_data:\n",
    "        if each == req_data:\n",
    "            found = True\n",
    "    return found\n",
    "data = ['IT','sales','HR','supply chain','procurement','products']\n",
    "sorted_data = sorted(data)\n",
    "req_data = input('what data you want to check?')\n",
    "dataFound = search(req_data,sorted_data)\n",
    "if dataFound:\n",
    "    print ('Data is found')\n",
    "else:\n",
    "    print ('Error, Data is not found')"
   ]
  },
  {
   "cell_type": "code",
   "execution_count": 23,
   "metadata": {},
   "outputs": [
    {
     "name": "stdout",
     "output_type": "stream",
     "text": [
      "Welcome to SVC Bank\n",
      " \n",
      "Available Balance: 50000.0\n",
      "Available Options\n",
      "__________________\n",
      "1. Cash Withdraw\n",
      "2. Cash Credit\n",
      "3. Password Change\n",
      "4. Quit\n",
      " \n",
      "Choose your option: 4\n",
      "Thankyou for banking with SVC Bank\n"
     ]
    }
   ],
   "source": [
    "#Banking System - cash withdraw, cash credit and change password\n",
    "def menu():\n",
    "    #print the options you have\n",
    "    print (\"Welcome to SVC Bank\")\n",
    "    print (\" \")\n",
    "    print (\"Available Balance:\", ava_bal)\n",
    "    print (\"Available Options\")\n",
    "    print (\"__________________\")\n",
    "    print (\"1. Cash Withdraw\")\n",
    "    print (\"2. Cash Credit\")\n",
    "    print (\"3. Password Change\")\n",
    "    print (\"4. Quit\")\n",
    "    print (\" \")\n",
    "    option = int(input (\"Choose your option: \"))\n",
    "    if option == 1:\n",
    "        withdrawcash(ava_bal)\n",
    "    elif option == 2:\n",
    "        cashcredit(cashcredit_limit)\n",
    "    elif option == 3:\n",
    "        passchange(password)\n",
    "    elif option == 4:\n",
    "        quit()\n",
    "    else:\n",
    "        print(\"Sorry, Choose Correct option\")\n",
    "def withdrawcash(balance):\n",
    "    withdraw_amount = float(input(\"Enter Amount:\"))\n",
    "    if withdraw_amount <= balance:\n",
    "        print(\"Please take the amount:\", withdraw_amount)\n",
    "        print(\"Your Available Balance:\", balance - withdraw_amount)\n",
    "        ava_bal = balance - withdraw_amount\n",
    "        menu()\n",
    "    else:\n",
    "        print(\"Sorry, You do not have enough balance\")\n",
    "def cashcredit(creditlimit):\n",
    "    withdraw_creditamount = float(input(\"Enter Amount:\"))\n",
    "    if withdraw_creditamount <= creditlimit:\n",
    "        print(\"Please take the amount:\", withdraw_creditamount)\n",
    "        print(\"Your Available Credit Limit:\", creditlimit - withdraw_creditamount)\n",
    "        cashcredit_limit = creditlimit - withdraw_creditamount\n",
    "        menu()\n",
    "    else:\n",
    "        print(\"Sorry, Please Choose amount less than your credit limit\")\n",
    "def passchange(old_password):\n",
    "    oldpassword = input(\"Enter Old password:\")\n",
    "    newpassword = input(\"Enter new password:\")\n",
    "    newpasswordconfirm = input(\"Enter new password again to confirm:\")\n",
    "    if oldpassword == old_password:\n",
    "        print (\"Your password is successfully updated\")\n",
    "        password = newpassword\n",
    "        menu()\n",
    "    elif newpassword == old_password:\n",
    "        print (\"Sorry your new password is same as old password, Try again\")\n",
    "        passchange(password)\n",
    "    else:\n",
    "        print(\"Sorry, Your old password is wrong\")\n",
    "        passchange(password)\n",
    "def quit():\n",
    "    print(\"Thankyou for banking with SVC Bank\")\n",
    "ava_bal = float(50000)\n",
    "cashcredit_limit = float(100000)\n",
    "password = 'Sachinrt@24'\n",
    "menu()"
   ]
  },
  {
   "cell_type": "code",
   "execution_count": 4,
   "metadata": {},
   "outputs": [
    {
     "name": "stdout",
     "output_type": "stream",
     "text": [
      "Starting latitude1: 23.5\n",
      "Ending longitude1: 65.5\n",
      "Starting latitude2: 29.5\n",
      "Ending longitude2: 67.5\n",
      "Distance in Miles: 432.72004142492113\n",
      "Distance in Km: 696.3951575760158\n"
     ]
    }
   ],
   "source": [
    "#Distance between two locations with latitudes and longitudes given\n",
    "import math\n",
    " \n",
    "def distance_on_unit_sphere(lat1, long1, lat2, long2):\n",
    " \n",
    "# Convert latitude and longitude to\n",
    "# spherical coordinates in radians.\n",
    "    degrees_to_radians = math.pi/180.0\n",
    " \n",
    "# phi = 90 - latitude\n",
    "    phi1 = (90.0 - lat1)*degrees_to_radians\n",
    "    phi2 = (90.0 - lat2)*degrees_to_radians\n",
    " \n",
    "# theta = longitude\n",
    "    theta1 = long1*degrees_to_radians\n",
    "    theta2 = long2*degrees_to_radians\n",
    " \n",
    "# Compute spherical distance from spherical coordinates.\n",
    " \n",
    "# For two locations in spherical coordinates\n",
    "# (1, theta, phi) and (1, theta', phi')\n",
    "# cosine( arc length ) =\n",
    "# sin phi sin phi' cos(theta-theta') + cos phi cos phi'\n",
    "# distance = rho * arc length\n",
    " \n",
    "    cos = (math.sin(phi1)*math.sin(phi2)*math.cos(theta1 - theta2) + math.cos(phi1)*math.cos(phi2))\n",
    "    arc = math.acos( cos )\n",
    "    print('Distance in Miles:', 3960 * arc)\n",
    "    print('Distance in Km:', 6373* arc)\n",
    "\n",
    "lat1 = float(input(\"Starting latitude1: \"))\n",
    "long1 = float(input(\"Ending longitude1: \"))\n",
    "lat2 = float(input(\"Starting latitude2: \"))\n",
    "long2 = float(input(\"Ending longitude2: \"))\n",
    "distance_on_unit_sphere(lat1, long1, lat2, long2)"
   ]
  },
  {
   "cell_type": "code",
   "execution_count": 5,
   "metadata": {},
   "outputs": [
    {
     "name": "stdout",
     "output_type": "stream",
     "text": [
      "Night\n"
     ]
    }
   ],
   "source": [
    "#Based on time find whether it is day or night\n",
    "from datetime import datetime, time\n",
    "now = datetime.now()\n",
    "now_time = now.time()\n",
    "if now_time >= time(6,00) and now_time <= time(18,00): \n",
    "    print ('Day')\n",
    "else:\n",
    "    print ('Night')"
   ]
  },
  {
   "cell_type": "code",
   "execution_count": 6,
   "metadata": {},
   "outputs": [
    {
     "name": "stdout",
     "output_type": "stream",
     "text": [
      "2002,2009,2016,2023,2037,2044,2051,2058,2072,2079,2086,2093,2107,2114,2121,2128,2142,2149,2156,2163,2177,2184,2191,2198,2212,2219,2226,2233,2247,2254,2261,2268,2282,2289,2296,2303,2317,2324,2331,2338,2352,2359,2366,2373,2387,2394,2401,2408,2422,2429,2436,2443,2457,2464,2471,2478,2492,2499,2506,2513,2527,2534,2541,2548,2562,2569,2576,2583,2597,2604,2611,2618,2632,2639,2646,2653,2667,2674,2681,2688,2702,2709,2716,2723,2737,2744,2751,2758,2772,2779,2786,2793,2807,2814,2821,2828,2842,2849,2856,2863,2877,2884,2891,2898,2912,2919,2926,2933,2947,2954,2961,2968,2982,2989,2996,3003,3017,3024,3031,3038,3052,3059,3066,3073,3087,3094,3101,3108,3122,3129,3136,3143,3157,3164,3171,3178,3192,3199\n"
     ]
    }
   ],
   "source": [
    "#Numbers divisible by 7 but not multiple of 5 between 2000 and 3200\n",
    "faclist=[]\n",
    "for i in range(2000, 3201):\n",
    "    if (i%7==0) and (i%5!=0):\n",
    "        faclist.append(str(i))\n",
    "\n",
    "print (','.join(faclist))"
   ]
  },
  {
   "cell_type": "code",
   "execution_count": 7,
   "metadata": {},
   "outputs": [
    {
     "name": "stdout",
     "output_type": "stream",
     "text": [
      "Enter Input:8\n",
      "40320\n"
     ]
    }
   ],
   "source": [
    "#Factorial of a number using recursion\n",
    "def fact(num):\n",
    "    if num == 0:\n",
    "        return 1\n",
    "    else:\n",
    "        return num * fact(num - 1)\n",
    "\n",
    "num=int(input(\"Enter Input:\"))\n",
    "print (fact(num))"
   ]
  },
  {
   "cell_type": "code",
   "execution_count": 8,
   "metadata": {},
   "outputs": [
    {
     "name": "stdout",
     "output_type": "stream",
     "text": [
      "Enter Input:100,150,180\n",
      "18.0,22.0,24.0\n"
     ]
    }
   ],
   "source": [
    "#Square root of [(2 * C * D)/H]\n",
    "import math\n",
    "D = [int(x) for x in input(\"Enter Input:\").split(',')]\n",
    "C = 50\n",
    "H = 30\n",
    "output = []\n",
    "for each in D:\n",
    "    Q = math.sqrt((2 * C * each)/H)\n",
    "    output.append(str(round(Q,0)))\n",
    "print(\",\".join(output))"
   ]
  },
  {
   "cell_type": "code",
   "execution_count": 15,
   "metadata": {},
   "outputs": [
    {
     "name": "stdout",
     "output_type": "stream",
     "text": [
      "Enter Input:3,5\n",
      "[[0, 0, 0, 0, 0], [0, 1, 2, 3, 4], [0, 2, 4, 6, 8]]\n"
     ]
    }
   ],
   "source": [
    "#Generate 2-dimensional array, Given 2 digits as input\n",
    "num = input(\"Enter Input:\")\n",
    "dimensions=[int(x) for x in num.split(',')]\n",
    "rowNum=dimensions[0]\n",
    "colNum=dimensions[1]\n",
    "arr = [[0 for col in range(colNum)] for row in range(rowNum)]\n",
    "\n",
    "for row in range(rowNum):\n",
    "    for col in range(colNum):\n",
    "        arr[row][col]= row*col\n",
    "\n",
    "print (arr)"
   ]
  },
  {
   "cell_type": "code",
   "execution_count": 16,
   "metadata": {},
   "outputs": [
    {
     "name": "stdout",
     "output_type": "stream",
     "text": [
      "Enter Input:without,hello,bag,world\n",
      "bag,hello,without,world\n"
     ]
    }
   ],
   "source": [
    "#Sort sequence of words alphabetically\n",
    "words = [word for word in input(\"Enter Input:\").split(',')]\n",
    "print (\",\".join(sorted(words)))"
   ]
  },
  {
   "cell_type": "code",
   "execution_count": 17,
   "metadata": {},
   "outputs": [
    {
     "name": "stdout",
     "output_type": "stream",
     "text": [
      "Enter Input:Hello world\n",
      "Enter Input:Practice makes perfect\n",
      "Enter Input:\n",
      "HELLO WORLD\n",
      "PRACTICE MAKES PERFECT\n"
     ]
    }
   ],
   "source": [
    "#Capitalize all characters in sentence\n",
    "seqinp = []\n",
    "while True:\n",
    "    s = input(\"Enter Input:\")\n",
    "    if s:\n",
    "        seqinp.append(s.upper())\n",
    "    else:\n",
    "        break\n",
    "\n",
    "for sencap in seqinp:\n",
    "    print (sencap)"
   ]
  },
  {
   "cell_type": "code",
   "execution_count": 19,
   "metadata": {},
   "outputs": [
    {
     "name": "stdout",
     "output_type": "stream",
     "text": [
      "Enter Input Sentence:hello world and practice makes perfect and hello world again\n",
      "again and hello makes perfect practice world\n"
     ]
    }
   ],
   "source": [
    "#Remove duplicate words from input and sort alphanumerically\n",
    "words = [word for word in input(\"Enter Input Sentence:\").split(' ')]\n",
    "print (\" \".join(sorted(list(set(words)))))"
   ]
  },
  {
   "cell_type": "code",
   "execution_count": 20,
   "metadata": {},
   "outputs": [
    {
     "name": "stdout",
     "output_type": "stream",
     "text": [
      "Enter Input:0100,0011,1010,1001\n",
      "1010\n"
     ]
    }
   ],
   "source": [
    "#4 digit binary numbers divisible by 5\n",
    "items = []\n",
    "num = [x for x in input(\"Enter Input:\").split(',')]\n",
    "for each in num:\n",
    "    x = int(each, 2)  # binary into digit\n",
    "    if x%5 == 0:\n",
    "        items.append(each)\n",
    "print(','.join(items))"
   ]
  },
  {
   "cell_type": "code",
   "execution_count": 21,
   "metadata": {},
   "outputs": [
    {
     "name": "stdout",
     "output_type": "stream",
     "text": [
      "Enter Input:Hello world!\n",
      "UPPER CASE 1\n",
      "LOWER CASE 9\n"
     ]
    }
   ],
   "source": [
    "#Number of upper case and lower case letters in given sentence\n",
    "inp = input(\"Enter Input:\")\n",
    "upper_count = 0\n",
    "lower_count = 0\n",
    "for each in inp:\n",
    "    if each.isupper():\n",
    "        upper_count = upper_count+1\n",
    "    elif each.islower():\n",
    "        lower_count = lower_count+1\n",
    "print('UPPER CASE', upper_count)\n",
    "print('LOWER CASE', lower_count)"
   ]
  },
  {
   "cell_type": "code",
   "execution_count": 22,
   "metadata": {},
   "outputs": [
    {
     "name": "stdout",
     "output_type": "stream",
     "text": [
      "Sum without start parameter: 4.5\n",
      "Sum with start parameter: 14.5\n",
      "fsum with range: 45.0\n",
      "fsum with integer list: 11.0\n",
      "fsum with floating list: 7.99\n"
     ]
    }
   ],
   "source": [
    "#fsum and sum function of math library\n",
    "#Sum Example\n",
    "numbers = [2.5, 3, 4, -5]\n",
    "\n",
    "# start parameter is not provided\n",
    "number_sum = sum(numbers)\n",
    "print('Sum without start parameter:', number_sum)\n",
    "\n",
    "# start = 10\n",
    "number_sum_start = sum(numbers, 10)\n",
    "print('Sum with start parameter:', number_sum_start)\n",
    "\n",
    "#fsum Example\n",
    "import math\n",
    "# fsum() is found in math library \n",
    "import math \n",
    "  \n",
    "# range(10) \n",
    "print('fsum with range:', math.fsum(range(10))) \n",
    "  \n",
    "# Integer list \n",
    "arr = [1, 4, 6] \n",
    "print('fsum with integer list:', math.fsum(arr)) \n",
    "  \n",
    "# Floating point list \n",
    "arr = [2.5, 2.4, 3.09] \n",
    "print('fsum with floating list:', math.fsum(arr)) "
   ]
  }
 ],
 "metadata": {
  "kernelspec": {
   "display_name": "Python 3",
   "language": "python",
   "name": "python3"
  },
  "language_info": {
   "codemirror_mode": {
    "name": "ipython",
    "version": 3
   },
   "file_extension": ".py",
   "mimetype": "text/x-python",
   "name": "python",
   "nbconvert_exporter": "python",
   "pygments_lexer": "ipython3",
   "version": "3.7.1"
  }
 },
 "nbformat": 4,
 "nbformat_minor": 2
}
