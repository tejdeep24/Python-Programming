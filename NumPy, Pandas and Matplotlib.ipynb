{
 "cells": [
  {
   "cell_type": "code",
   "execution_count": null,
   "metadata": {},
   "outputs": [],
   "source": [
    "#import pandas\n",
    "import pandas as pd\n",
    "\n",
    "#Read All .csv files\n",
    "df1=pd.read_csv('MathScoreTerm1.csv')\n",
    "df2=pd.read_csv('DSScoreTerm1.csv')\n",
    "df3=pd.read_csv('PhysicsScoreTerm1.csv')\n",
    "\n",
    "#Drop 'name' and 'Ethinicity' columns\n",
    "dataset1=df1.drop(['Name','Ethinicity'], axis=1)\n",
    "dataset2=df2.drop(['Name','Ethinicity'], axis=1)\n",
    "dataset3=df3.drop(['Name','Ethinicity'], axis=1)\n",
    "\n",
    "#dataset1['Score'].fillna(0, inplace=True)\n",
    "#dataset2['Score'].fillna(0, inplace=True)\n",
    "#dataset3['Score'].fillna(0, inplace=True)\n",
    "\n",
    "#Merge all datasets\n",
    "ScoreFinal = pd.concat([dataset1, dataset2, dataset3], axis = 0)\n",
    "\n",
    "#Change Sex(M/F) Column to 1/2 for further analysis\n",
    "ScoreFinal['Sex'] = ScoreFinal['Sex'].replace('M',1)\n",
    "ScoreFinal['Sex'] = ScoreFinal['Sex'].replace('F',2)\n",
    "\n",
    "#Fill the missing score for a student to the average of the class\n",
    "ScoreFinal['Score'] = ScoreFinal['Score'].fillna(ScoreFinal['Score'].mean())\n",
    "\n",
    "#Store the data in new file – ScoreFinal.csv\n",
    "ScoreFinal.to_csv('ScoreFinal.csv', index=False)"
   ]
  }
 ],
 "metadata": {
  "kernelspec": {
   "display_name": "Python 3",
   "language": "python",
   "name": "python3"
  },
  "language_info": {
   "codemirror_mode": {
    "name": "ipython",
    "version": 3
   },
   "file_extension": ".py",
   "mimetype": "text/x-python",
   "name": "python",
   "nbconvert_exporter": "python",
   "pygments_lexer": "ipython3",
   "version": "3.6.5"
  }
 },
 "nbformat": 4,
 "nbformat_minor": 2
}
