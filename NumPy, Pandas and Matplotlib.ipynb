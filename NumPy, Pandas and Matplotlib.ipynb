{
 "cells": [
  {
   "cell_type": "code",
   "execution_count": 5,
   "metadata": {},
   "outputs": [
    {
     "name": "stdout",
     "output_type": "stream",
     "text": [
      "Salary: [140.    30.    35.1   30.    80.    30.    60.    31.1  125.    51.\n",
      "   3.    46.   150.     3.   130.    15.   130.    84.   190.    74.\n",
      "  73.    10.    50.     7.     9.5   15.2   28.6   20.    72.    81.\n",
      " 100.    90.    90.    35.    30.    25.    52.     9.    63.    72.\n",
      "  16.    92.   106.     2.5    9.    32.    32.    55.    52.    28.\n",
      "  20.    14.7   22.3   34.8   84.    19.   160.    65.    55.     4.6\n",
      " 102.    20.    62.    55.    45.6   40.    24.    35.    48.    20.\n",
      "  40.7   15.     0.25 152.    39.8   12.    30.   120.     1.7   36.\n",
      "  96.    38.    90.     9.    25.8   22.    38.8   72.    89.    41.\n",
      "  89.    25.    52.   115.    66.    18.6  152.     1.8   35.     4.  ]\n",
      "Gender: [1. 0. 0. 1. 0. 0. 1. 0. 1. 1. 1. 1. 1. 1. 1. 0. 1. 0. 1. 1. 0. 0. 0. 0.\n",
      " 0. 1. 1. 0. 0. 1. 0. 0. 0. 1. 0. 1. 0. 0. 1. 1. 1. 0. 1. 1. 0. 0. 0. 1.\n",
      " 1. 0. 0. 0. 1. 0. 0. 1. 1. 0. 0. 1. 1. 1. 0. 1. 1. 0. 0. 1. 0. 0. 0. 1.\n",
      " 0. 1. 0. 0. 1. 1. 1. 1. 1. 0. 1. 1. 0. 0. 0. 1. 1. 0. 1. 0. 1. 0. 0. 1.\n",
      " 1. 1. 0. 0.]\n",
      "Age: [47. 65. 56. 23. 53. 27. 53. 30. 44. 63. 22. 59. 60. 28. 65. 25. 65. 47.\n",
      " 66. 45. 46. 24. 60. 63. 27. 66. 36. 30. 51. 65. 45. 52. 54. 30. 52. 26.\n",
      " 49. 22. 34. 60. 28. 58. 77. 67. 27. 48. 45. 49. 36. 65. 32. 49. 67. 22.\n",
      " 49. 43. 61. 43. 52. 51. 66. 29. 62. 56. 61. 56. 41. 24. 60. 43. 57. 23.\n",
      " 53. 71. 20. 27. 69. 58. 37. 32. 33. 32. 60. 71. 30. 62. 54. 42. 62. 51.\n",
      " 71. 29. 55. 54. 55. 26. 56. 28. 44. 24.]\n",
      "phD: [1. 1. 0. 0. 1. 0. 0. 0. 1. 1. 0. 0. 1. 0. 0. 0. 0. 1. 1. 1. 0. 0. 0. 0.\n",
      " 0. 1. 1. 0. 1. 1. 1. 1. 1. 0. 0. 0. 0. 0. 1. 0. 0. 1. 1. 0. 0. 1. 0. 1.\n",
      " 0. 1. 0. 0. 0. 0. 1. 0. 1. 1. 0. 0. 1. 0. 0. 1. 0. 0. 0. 0. 0. 0. 0. 0.\n",
      " 0. 1. 0. 0. 1. 1. 0. 1. 1. 1. 0. 0. 0. 0. 0. 1. 0. 1. 1. 0. 1. 0. 1. 0.\n",
      " 1. 0. 0. 0.]\n"
     ]
    }
   ],
   "source": [
    "#Extract data from dataset and store data from each column in a NumPy array\n",
    "def seperatecolumn_numpyarr():\n",
    "    import numpy as np\n",
    "    salary, gender, age, PhD = np.genfromtxt('SalaryGender.csv', delimiter=',', skip_header=1, unpack=True)\n",
    "    salary_arr = np.array(salary)\n",
    "    gender_arr = np.array(gender)\n",
    "    age_arr = np.array(age)\n",
    "    phD_arr = np.array(PhD)\n",
    "    print('Salary:', salary_arr)\n",
    "    print('Gender:', gender_arr)\n",
    "    print('Age:', age_arr)\n",
    "    print('phD:', phD_arr)\n",
    "seperatecolumn_numpyarr()"
   ]
  },
  {
   "cell_type": "code",
   "execution_count": 154,
   "metadata": {},
   "outputs": [
    {
     "name": "stdout",
     "output_type": "stream",
     "text": [
      "   Gender  PhD  Count  Status\n",
      "0       0    0     35  FWOPHD\n",
      "1       0    1     15   FWPHD\n",
      "2       1    0     26  MWOPHD\n",
      "3       1    1     24   MWPHD\n",
      "No of Males with PhD: 24\n",
      "No of Females with PhD: 15\n"
     ]
    }
   ],
   "source": [
    "#Number of men and women with a PhD\n",
    "def menwomen_phd():\n",
    "    import pandas as pd\n",
    "    df = pd.read_csv('SalaryGender.csv')\n",
    "    phd_df = df.groupby(['Gender','PhD'])['Gender'].count().reset_index(name='Count')\n",
    "    phd_df['Status'] = pd.Series(['FWOPHD','FWPHD','MWOPHD','MWPHD'])\n",
    "    print(phd_df)\n",
    "    female_count=0\n",
    "    male_count=0\n",
    "    for index,row in phd_df.iterrows():\n",
    "        if(row['Gender'] == 0 and row['PhD'] == 1):\n",
    "            female_count = row['Count']\n",
    "        if(row['Gender'] == 1 and row['PhD'] == 1):\n",
    "            male_count = row['Count']\n",
    "    print('No of Males with PhD:', male_count)\n",
    "    print('No of Females with PhD:', female_count)\n",
    "menwomen_phd()"
   ]
  },
  {
   "cell_type": "code",
   "execution_count": 168,
   "metadata": {},
   "outputs": [
    {
     "name": "stdout",
     "output_type": "stream",
     "text": [
      "   Age  PhD\n",
      "0   47    1\n",
      "1   65    1\n",
      "2   53    1\n",
      "3   44    1\n",
      "4   63    1\n"
     ]
    }
   ],
   "source": [
    "#Store \"Age\" and \"PhD\" columns in one data frame\n",
    "#Delete data of all people who don't have PhD\n",
    "def no_phd():\n",
    "    import pandas as pd\n",
    "    df = pd.read_csv('SalaryGender.csv')\n",
    "    age_phd = df[['Age','PhD']]\n",
    "    age_phd = age_phd[(age_phd.PhD == 1)].reset_index(drop=True)\n",
    "    print(age_phd.head(5))\n",
    "no_phd()"
   ]
  },
  {
   "cell_type": "code",
   "execution_count": 171,
   "metadata": {},
   "outputs": [
    {
     "name": "stdout",
     "output_type": "stream",
     "text": [
      "   PhD  Count Status\n",
      "0    0     61  WOPHD\n",
      "1    1     39   WPHD\n",
      "Total Number of PhD Holders: 39\n"
     ]
    }
   ],
   "source": [
    "#Total Number of people who have a PhD degree\n",
    "def total_phd():\n",
    "    import numpy as np\n",
    "    import pandas as pd\n",
    "    df = pd.read_csv('SalaryGender.csv')\n",
    "    phd_df = df.groupby(['PhD'])['PhD'].count().reset_index(name='Count')\n",
    "    phd_df['Status'] = pd.Series(['WOPHD','WPHD'])\n",
    "    print(phd_df)\n",
    "    count =0\n",
    "    for index,row in phd_df.iterrows():\n",
    "        if(row['PhD'] == 1):\n",
    "            count = row['Count']\n",
    "    print(\"Total Number of PhD Holders:\",count)\n",
    "total_phd()"
   ]
  },
  {
   "cell_type": "code",
   "execution_count": 172,
   "metadata": {},
   "outputs": [
    {
     "name": "stdout",
     "output_type": "stream",
     "text": [
      "[4 2 1 1 3 2 0 0 0 1]\n"
     ]
    }
   ],
   "source": [
    "#Number of times each value appears in an array\n",
    "def total_occurance():\n",
    "    int_arr = [0,5,4,0,4,4,3,0,0,5,2,1,1,9]\n",
    "    #bincount gives the occurances of each element in an array\n",
    "    print(np.bincount(int_arr))\n",
    "total_occurance()"
   ]
  },
  {
   "cell_type": "code",
   "execution_count": 174,
   "metadata": {},
   "outputs": [
    {
     "name": "stdout",
     "output_type": "stream",
     "text": [
      "[ 6  7  8  9 10 11]\n"
     ]
    }
   ],
   "source": [
    "#create numpy array and filter the elements greater than 5\n",
    "def filter_greater5():\n",
    "    import numpy as np\n",
    "    np_arr = np.arange(0,12).reshape(4,3)\n",
    "    result = np.array([each for each in np_arr.flatten() if each > 5])\n",
    "    print(result)\n",
    "filter_greater5()"
   ]
  },
  {
   "cell_type": "code",
   "execution_count": 176,
   "metadata": {},
   "outputs": [
    {
     "name": "stdout",
     "output_type": "stream",
     "text": [
      "[1.0, 2.0, 3.0, 4.0, 5.0]\n"
     ]
    }
   ],
   "source": [
    "#Filter NaN elements from Numpy array\n",
    "def filter_NaN():\n",
    "    import numpy as np\n",
    "    arr = [np.nan, 1., 2.,np.nan, 3., 4., 5.]\n",
    "    filter_arr=list(filter(lambda x :~np.isnan(x), arr))\n",
    "    print(filter_arr)\n",
    "filter_NaN()"
   ]
  },
  {
   "cell_type": "code",
   "execution_count": 77,
   "metadata": {},
   "outputs": [
    {
     "name": "stdout",
     "output_type": "stream",
     "text": [
      "Minimum Value: 0.00154905213255\n",
      "Maximum Values: 0.99737702053\n"
     ]
    }
   ],
   "source": [
    "#Find max and min values\n",
    "def find_minmax():\n",
    "    import numpy as np\n",
    "    random_integer = np.random.random((10,10)) \n",
    "    random_integer_min, random_integer_max = random_integer.min(), random_integer.max()\n",
    "    print('Minimum Value:', random_integer_min)\n",
    "    print('Maximum Values:' , random_integer_max)\n",
    "find_minmax()"
   ]
  },
  {
   "cell_type": "code",
   "execution_count": 79,
   "metadata": {},
   "outputs": [
    {
     "name": "stdout",
     "output_type": "stream",
     "text": [
      "Mean Value: 0.408906685726\n"
     ]
    }
   ],
   "source": [
    "#create random vector size of 30 and find the mean value\n",
    "def find_mean():\n",
    "    import numpy as np\n",
    "    random_integer = np.random.random((30))\n",
    "    print('Mean Value:' , random_integer.mean())\n",
    "find_mean()"
   ]
  },
  {
   "cell_type": "code",
   "execution_count": 80,
   "metadata": {},
   "outputs": [
    {
     "name": "stdout",
     "output_type": "stream",
     "text": [
      "[ 0  1  2  3 -4 -5 -6 -7 -8  9 10]\n"
     ]
    }
   ],
   "source": [
    "#Negate elements between 3 and 9\n",
    "def negate():\n",
    "    import numpy as np\n",
    "    arr_list = np.arange(0, 11)\n",
    "    arr_list[(3 < arr_list) & (arr_list <= 8)] *= -1\n",
    "    print(arr_list)\n",
    "negate()"
   ]
  },
  {
   "cell_type": "code",
   "execution_count": 81,
   "metadata": {},
   "outputs": [
    {
     "name": "stdout",
     "output_type": "stream",
     "text": [
      "Column Sorting: [[ 0.18514248  0.49050481  0.65009489]\n",
      " [ 0.064435    0.53185752  0.69369604]\n",
      " [ 0.07184791  0.8503914   0.89210136]]\n"
     ]
    }
   ],
   "source": [
    "#Sorting in column order\n",
    "def column_sort():\n",
    "    import numpy as np\n",
    "    random_integer = np.random.random((3,3))\n",
    "    random_integer = np.sort(random_integer, axis = 1)\n",
    "    print('Column Sorting:', random_integer)\n",
    "column_sort()"
   ]
  },
  {
   "cell_type": "code",
   "execution_count": 178,
   "metadata": {},
   "outputs": [
    {
     "name": "stdout",
     "output_type": "stream",
     "text": [
      "Sum of last two axes [[ 0.91306623  1.51161627]\n",
      " [ 1.43097555  1.7235858 ]]\n"
     ]
    }
   ],
   "source": [
    "#create four dimensions array and get sum over last two axis at once\n",
    "def axis_sum():\n",
    "    import numpy as np\n",
    "    random_integer = np.random.random((2,2,2,2))\n",
    "    sum_axis = np.sum(random_integer, axis= tuple(range(random_integer.ndim-2,random_integer.ndim)))\n",
    "    print ('Sum of last two axes', sum_axis)\n",
    "axis_sum()"
   ]
  },
  {
   "cell_type": "code",
   "execution_count": 218,
   "metadata": {},
   "outputs": [
    {
     "name": "stdout",
     "output_type": "stream",
     "text": [
      "Rows Before Swapping: [[ 0.31920609  0.36239445  0.28514432]\n",
      " [ 0.91075274  0.05481841  0.03468666]\n",
      " [ 0.48415299  0.72272951  0.58987881]\n",
      " [ 0.69817851  0.46902481  0.30952035]]\n",
      "Rows After Swapping: [[ 0.69817851  0.46902481  0.30952035]\n",
      " [ 0.48415299  0.72272951  0.58987881]\n",
      " [ 0.91075274  0.05481841  0.03468666]\n",
      " [ 0.31920609  0.36239445  0.28514432]]\n"
     ]
    }
   ],
   "source": [
    "#create random array and swap two rows of an array\n",
    "def swap():\n",
    "    import numpy as np\n",
    "    random_integer = np.random.random((4,3))\n",
    "    ind = []\n",
    "    for index,each in enumerate(random_integer):\n",
    "        ind.append(index)\n",
    "    print('Rows Before Swapping:', random_integer)\n",
    "    random_integer = random_integer[ind[::-1]]\n",
    "    print('Rows After Swapping:', random_integer)\n",
    "swap()"
   ]
  },
  {
   "cell_type": "code",
   "execution_count": 229,
   "metadata": {},
   "outputs": [
    {
     "name": "stdout",
     "output_type": "stream",
     "text": [
      "4\n"
     ]
    }
   ],
   "source": [
    "#create random matrix and compute a matrix rank\n",
    "def rank_matrix():\n",
    "    import numpy as np\n",
    "    random_arr = np.random.random((6,4))\n",
    "    print(np.linalg.matrix_rank(random_arr))\n",
    "rank_matrix()"
   ]
  },
  {
   "cell_type": "code",
   "execution_count": 287,
   "metadata": {},
   "outputs": [
    {
     "data": {
      "text/html": [
       "<div>\n",
       "<style scoped>\n",
       "    .dataframe tbody tr th:only-of-type {\n",
       "        vertical-align: middle;\n",
       "    }\n",
       "\n",
       "    .dataframe tbody tr th {\n",
       "        vertical-align: top;\n",
       "    }\n",
       "\n",
       "    .dataframe thead th {\n",
       "        text-align: right;\n",
       "    }\n",
       "</style>\n",
       "<table border=\"1\" class=\"dataframe\">\n",
       "  <thead>\n",
       "    <tr style=\"text-align: right;\">\n",
       "      <th></th>\n",
       "      <th>school_rating</th>\n",
       "      <th>size</th>\n",
       "      <th>reduced_lunch</th>\n",
       "      <th>state_percentile_16</th>\n",
       "      <th>state_percentile_15</th>\n",
       "      <th>stu_teach_ratio</th>\n",
       "      <th>avg_score_15</th>\n",
       "      <th>avg_score_16</th>\n",
       "      <th>full_time_teachers</th>\n",
       "      <th>percent_black</th>\n",
       "      <th>percent_white</th>\n",
       "      <th>percent_asian</th>\n",
       "      <th>percent_hispanic</th>\n",
       "    </tr>\n",
       "  </thead>\n",
       "  <tbody>\n",
       "    <tr>\n",
       "      <th>count</th>\n",
       "      <td>347.000000</td>\n",
       "      <td>347.000000</td>\n",
       "      <td>347.000000</td>\n",
       "      <td>347.000000</td>\n",
       "      <td>347.000000</td>\n",
       "      <td>347.000000</td>\n",
       "      <td>347.000000</td>\n",
       "      <td>347.000000</td>\n",
       "      <td>347.000000</td>\n",
       "      <td>347.000000</td>\n",
       "      <td>347.000000</td>\n",
       "      <td>347.000000</td>\n",
       "      <td>347.000000</td>\n",
       "    </tr>\n",
       "    <tr>\n",
       "      <th>mean</th>\n",
       "      <td>2.968300</td>\n",
       "      <td>699.472622</td>\n",
       "      <td>50.279539</td>\n",
       "      <td>58.801729</td>\n",
       "      <td>57.242075</td>\n",
       "      <td>15.461671</td>\n",
       "      <td>56.019020</td>\n",
       "      <td>57.049856</td>\n",
       "      <td>44.939481</td>\n",
       "      <td>21.197983</td>\n",
       "      <td>61.673487</td>\n",
       "      <td>2.642651</td>\n",
       "      <td>11.164553</td>\n",
       "    </tr>\n",
       "    <tr>\n",
       "      <th>std</th>\n",
       "      <td>1.690377</td>\n",
       "      <td>400.598636</td>\n",
       "      <td>25.480236</td>\n",
       "      <td>32.540747</td>\n",
       "      <td>33.297699</td>\n",
       "      <td>5.725170</td>\n",
       "      <td>27.490315</td>\n",
       "      <td>27.968974</td>\n",
       "      <td>22.053386</td>\n",
       "      <td>23.562538</td>\n",
       "      <td>27.274859</td>\n",
       "      <td>3.109629</td>\n",
       "      <td>12.030608</td>\n",
       "    </tr>\n",
       "    <tr>\n",
       "      <th>min</th>\n",
       "      <td>0.000000</td>\n",
       "      <td>53.000000</td>\n",
       "      <td>2.000000</td>\n",
       "      <td>0.200000</td>\n",
       "      <td>0.000000</td>\n",
       "      <td>4.700000</td>\n",
       "      <td>0.000000</td>\n",
       "      <td>0.100000</td>\n",
       "      <td>2.000000</td>\n",
       "      <td>0.000000</td>\n",
       "      <td>1.100000</td>\n",
       "      <td>0.000000</td>\n",
       "      <td>0.000000</td>\n",
       "    </tr>\n",
       "    <tr>\n",
       "      <th>25%</th>\n",
       "      <td>2.000000</td>\n",
       "      <td>420.500000</td>\n",
       "      <td>30.000000</td>\n",
       "      <td>30.950000</td>\n",
       "      <td>26.150000</td>\n",
       "      <td>13.700000</td>\n",
       "      <td>36.950000</td>\n",
       "      <td>37.000000</td>\n",
       "      <td>30.000000</td>\n",
       "      <td>3.600000</td>\n",
       "      <td>40.600000</td>\n",
       "      <td>0.750000</td>\n",
       "      <td>3.800000</td>\n",
       "    </tr>\n",
       "    <tr>\n",
       "      <th>50%</th>\n",
       "      <td>3.000000</td>\n",
       "      <td>595.000000</td>\n",
       "      <td>51.000000</td>\n",
       "      <td>66.400000</td>\n",
       "      <td>64.800000</td>\n",
       "      <td>15.000000</td>\n",
       "      <td>61.100000</td>\n",
       "      <td>60.700000</td>\n",
       "      <td>40.000000</td>\n",
       "      <td>13.500000</td>\n",
       "      <td>68.700000</td>\n",
       "      <td>1.600000</td>\n",
       "      <td>6.400000</td>\n",
       "    </tr>\n",
       "    <tr>\n",
       "      <th>75%</th>\n",
       "      <td>4.000000</td>\n",
       "      <td>851.000000</td>\n",
       "      <td>71.500000</td>\n",
       "      <td>88.000000</td>\n",
       "      <td>88.200000</td>\n",
       "      <td>16.700000</td>\n",
       "      <td>79.250000</td>\n",
       "      <td>80.250000</td>\n",
       "      <td>54.000000</td>\n",
       "      <td>28.350000</td>\n",
       "      <td>85.950000</td>\n",
       "      <td>3.100000</td>\n",
       "      <td>13.800000</td>\n",
       "    </tr>\n",
       "    <tr>\n",
       "      <th>max</th>\n",
       "      <td>5.000000</td>\n",
       "      <td>2314.000000</td>\n",
       "      <td>98.000000</td>\n",
       "      <td>99.800000</td>\n",
       "      <td>99.800000</td>\n",
       "      <td>111.000000</td>\n",
       "      <td>99.000000</td>\n",
       "      <td>98.900000</td>\n",
       "      <td>140.000000</td>\n",
       "      <td>97.400000</td>\n",
       "      <td>99.700000</td>\n",
       "      <td>21.100000</td>\n",
       "      <td>65.200000</td>\n",
       "    </tr>\n",
       "  </tbody>\n",
       "</table>\n",
       "</div>"
      ],
      "text/plain": [
       "       school_rating         size  reduced_lunch  state_percentile_16  \\\n",
       "count     347.000000   347.000000     347.000000           347.000000   \n",
       "mean        2.968300   699.472622      50.279539            58.801729   \n",
       "std         1.690377   400.598636      25.480236            32.540747   \n",
       "min         0.000000    53.000000       2.000000             0.200000   \n",
       "25%         2.000000   420.500000      30.000000            30.950000   \n",
       "50%         3.000000   595.000000      51.000000            66.400000   \n",
       "75%         4.000000   851.000000      71.500000            88.000000   \n",
       "max         5.000000  2314.000000      98.000000            99.800000   \n",
       "\n",
       "       state_percentile_15  stu_teach_ratio  avg_score_15  avg_score_16  \\\n",
       "count           347.000000       347.000000    347.000000    347.000000   \n",
       "mean             57.242075        15.461671     56.019020     57.049856   \n",
       "std              33.297699         5.725170     27.490315     27.968974   \n",
       "min               0.000000         4.700000      0.000000      0.100000   \n",
       "25%              26.150000        13.700000     36.950000     37.000000   \n",
       "50%              64.800000        15.000000     61.100000     60.700000   \n",
       "75%              88.200000        16.700000     79.250000     80.250000   \n",
       "max              99.800000       111.000000     99.000000     98.900000   \n",
       "\n",
       "       full_time_teachers  percent_black  percent_white  percent_asian  \\\n",
       "count          347.000000     347.000000     347.000000     347.000000   \n",
       "mean            44.939481      21.197983      61.673487       2.642651   \n",
       "std             22.053386      23.562538      27.274859       3.109629   \n",
       "min              2.000000       0.000000       1.100000       0.000000   \n",
       "25%             30.000000       3.600000      40.600000       0.750000   \n",
       "50%             40.000000      13.500000      68.700000       1.600000   \n",
       "75%             54.000000      28.350000      85.950000       3.100000   \n",
       "max            140.000000      97.400000      99.700000      21.100000   \n",
       "\n",
       "       percent_hispanic  \n",
       "count        347.000000  \n",
       "mean          11.164553  \n",
       "std           12.030608  \n",
       "min            0.000000  \n",
       "25%            3.800000  \n",
       "50%            6.400000  \n",
       "75%           13.800000  \n",
       "max           65.200000  "
      ]
     },
     "execution_count": 287,
     "metadata": {},
     "output_type": "execute_result"
    }
   ],
   "source": [
    "#Read the data in pandas data frame\n",
    "#describe the data\n",
    "#Phase1 - Data Collection\n",
    "import pandas as pd\n",
    "df = pd.read_csv('middle_tn_schools.csv')\n",
    "df = df.fillna(0, axis=1)\n",
    "df.describe()"
   ]
  },
  {
   "cell_type": "code",
   "execution_count": 288,
   "metadata": {},
   "outputs": [
    {
     "data": {
      "text/html": [
       "<div>\n",
       "<style scoped>\n",
       "    .dataframe tbody tr th:only-of-type {\n",
       "        vertical-align: middle;\n",
       "    }\n",
       "\n",
       "    .dataframe tbody tr th {\n",
       "        vertical-align: top;\n",
       "    }\n",
       "\n",
       "    .dataframe thead tr th {\n",
       "        text-align: left;\n",
       "    }\n",
       "\n",
       "    .dataframe thead tr:last-of-type th {\n",
       "        text-align: right;\n",
       "    }\n",
       "</style>\n",
       "<table border=\"1\" class=\"dataframe\">\n",
       "  <thead>\n",
       "    <tr>\n",
       "      <th></th>\n",
       "      <th colspan=\"8\" halign=\"left\">avg_score_15</th>\n",
       "      <th colspan=\"2\" halign=\"left\">avg_score_16</th>\n",
       "      <th>...</th>\n",
       "      <th colspan=\"2\" halign=\"left\">state_percentile_16</th>\n",
       "      <th colspan=\"8\" halign=\"left\">stu_teach_ratio</th>\n",
       "    </tr>\n",
       "    <tr>\n",
       "      <th></th>\n",
       "      <th>count</th>\n",
       "      <th>mean</th>\n",
       "      <th>std</th>\n",
       "      <th>min</th>\n",
       "      <th>25%</th>\n",
       "      <th>50%</th>\n",
       "      <th>75%</th>\n",
       "      <th>max</th>\n",
       "      <th>count</th>\n",
       "      <th>mean</th>\n",
       "      <th>...</th>\n",
       "      <th>75%</th>\n",
       "      <th>max</th>\n",
       "      <th>count</th>\n",
       "      <th>mean</th>\n",
       "      <th>std</th>\n",
       "      <th>min</th>\n",
       "      <th>25%</th>\n",
       "      <th>50%</th>\n",
       "      <th>75%</th>\n",
       "      <th>max</th>\n",
       "    </tr>\n",
       "    <tr>\n",
       "      <th>school_rating</th>\n",
       "      <th></th>\n",
       "      <th></th>\n",
       "      <th></th>\n",
       "      <th></th>\n",
       "      <th></th>\n",
       "      <th></th>\n",
       "      <th></th>\n",
       "      <th></th>\n",
       "      <th></th>\n",
       "      <th></th>\n",
       "      <th></th>\n",
       "      <th></th>\n",
       "      <th></th>\n",
       "      <th></th>\n",
       "      <th></th>\n",
       "      <th></th>\n",
       "      <th></th>\n",
       "      <th></th>\n",
       "      <th></th>\n",
       "      <th></th>\n",
       "      <th></th>\n",
       "    </tr>\n",
       "  </thead>\n",
       "  <tbody>\n",
       "    <tr>\n",
       "      <th>0.0</th>\n",
       "      <td>43.0</td>\n",
       "      <td>11.281395</td>\n",
       "      <td>7.642589</td>\n",
       "      <td>0.0</td>\n",
       "      <td>5.250</td>\n",
       "      <td>11.10</td>\n",
       "      <td>15.950</td>\n",
       "      <td>26.5</td>\n",
       "      <td>43.0</td>\n",
       "      <td>8.430233</td>\n",
       "      <td>...</td>\n",
       "      <td>6.700</td>\n",
       "      <td>9.3</td>\n",
       "      <td>43.0</td>\n",
       "      <td>13.583721</td>\n",
       "      <td>2.313823</td>\n",
       "      <td>4.7</td>\n",
       "      <td>12.600</td>\n",
       "      <td>14.10</td>\n",
       "      <td>14.750</td>\n",
       "      <td>18.9</td>\n",
       "    </tr>\n",
       "    <tr>\n",
       "      <th>1.0</th>\n",
       "      <td>40.0</td>\n",
       "      <td>25.635000</td>\n",
       "      <td>9.850512</td>\n",
       "      <td>0.0</td>\n",
       "      <td>21.075</td>\n",
       "      <td>24.35</td>\n",
       "      <td>34.900</td>\n",
       "      <td>40.8</td>\n",
       "      <td>40.0</td>\n",
       "      <td>25.292500</td>\n",
       "      <td>...</td>\n",
       "      <td>24.775</td>\n",
       "      <td>28.4</td>\n",
       "      <td>40.0</td>\n",
       "      <td>14.912500</td>\n",
       "      <td>2.748910</td>\n",
       "      <td>7.3</td>\n",
       "      <td>13.275</td>\n",
       "      <td>14.95</td>\n",
       "      <td>17.125</td>\n",
       "      <td>20.5</td>\n",
       "    </tr>\n",
       "    <tr>\n",
       "      <th>2.0</th>\n",
       "      <td>44.0</td>\n",
       "      <td>43.606818</td>\n",
       "      <td>12.054940</td>\n",
       "      <td>0.0</td>\n",
       "      <td>37.675</td>\n",
       "      <td>43.40</td>\n",
       "      <td>50.375</td>\n",
       "      <td>71.8</td>\n",
       "      <td>44.0</td>\n",
       "      <td>42.465909</td>\n",
       "      <td>...</td>\n",
       "      <td>45.550</td>\n",
       "      <td>49.6</td>\n",
       "      <td>44.0</td>\n",
       "      <td>14.434091</td>\n",
       "      <td>2.080468</td>\n",
       "      <td>9.5</td>\n",
       "      <td>12.875</td>\n",
       "      <td>14.25</td>\n",
       "      <td>15.975</td>\n",
       "      <td>19.3</td>\n",
       "    </tr>\n",
       "    <tr>\n",
       "      <th>3.0</th>\n",
       "      <td>56.0</td>\n",
       "      <td>57.033929</td>\n",
       "      <td>9.978764</td>\n",
       "      <td>38.6</td>\n",
       "      <td>50.200</td>\n",
       "      <td>57.10</td>\n",
       "      <td>65.050</td>\n",
       "      <td>80.6</td>\n",
       "      <td>56.0</td>\n",
       "      <td>56.512500</td>\n",
       "      <td>...</td>\n",
       "      <td>63.975</td>\n",
       "      <td>69.6</td>\n",
       "      <td>56.0</td>\n",
       "      <td>15.085714</td>\n",
       "      <td>1.890111</td>\n",
       "      <td>10.8</td>\n",
       "      <td>13.600</td>\n",
       "      <td>14.85</td>\n",
       "      <td>16.500</td>\n",
       "      <td>20.0</td>\n",
       "    </tr>\n",
       "    <tr>\n",
       "      <th>4.0</th>\n",
       "      <td>86.0</td>\n",
       "      <td>71.475581</td>\n",
       "      <td>12.441448</td>\n",
       "      <td>0.0</td>\n",
       "      <td>67.300</td>\n",
       "      <td>73.10</td>\n",
       "      <td>79.325</td>\n",
       "      <td>88.7</td>\n",
       "      <td>86.0</td>\n",
       "      <td>73.904651</td>\n",
       "      <td>...</td>\n",
       "      <td>85.275</td>\n",
       "      <td>89.8</td>\n",
       "      <td>86.0</td>\n",
       "      <td>15.323256</td>\n",
       "      <td>2.307057</td>\n",
       "      <td>9.8</td>\n",
       "      <td>13.900</td>\n",
       "      <td>15.10</td>\n",
       "      <td>16.800</td>\n",
       "      <td>22.5</td>\n",
       "    </tr>\n",
       "    <tr>\n",
       "      <th>5.0</th>\n",
       "      <td>78.0</td>\n",
       "      <td>85.494872</td>\n",
       "      <td>12.596298</td>\n",
       "      <td>0.0</td>\n",
       "      <td>82.350</td>\n",
       "      <td>89.40</td>\n",
       "      <td>92.700</td>\n",
       "      <td>99.0</td>\n",
       "      <td>78.0</td>\n",
       "      <td>90.167949</td>\n",
       "      <td>...</td>\n",
       "      <td>97.975</td>\n",
       "      <td>99.8</td>\n",
       "      <td>78.0</td>\n",
       "      <td>17.780769</td>\n",
       "      <td>11.017826</td>\n",
       "      <td>11.7</td>\n",
       "      <td>15.200</td>\n",
       "      <td>16.35</td>\n",
       "      <td>17.400</td>\n",
       "      <td>111.0</td>\n",
       "    </tr>\n",
       "  </tbody>\n",
       "</table>\n",
       "<p>6 rows × 96 columns</p>\n",
       "</div>"
      ],
      "text/plain": [
       "              avg_score_15                                                     \\\n",
       "                     count       mean        std   min     25%    50%     75%   \n",
       "school_rating                                                                   \n",
       "0.0                   43.0  11.281395   7.642589   0.0   5.250  11.10  15.950   \n",
       "1.0                   40.0  25.635000   9.850512   0.0  21.075  24.35  34.900   \n",
       "2.0                   44.0  43.606818  12.054940   0.0  37.675  43.40  50.375   \n",
       "3.0                   56.0  57.033929   9.978764  38.6  50.200  57.10  65.050   \n",
       "4.0                   86.0  71.475581  12.441448   0.0  67.300  73.10  79.325   \n",
       "5.0                   78.0  85.494872  12.596298   0.0  82.350  89.40  92.700   \n",
       "\n",
       "                    avg_score_16             ...   state_percentile_16        \\\n",
       "                max        count       mean  ...                   75%   max   \n",
       "school_rating                                ...                               \n",
       "0.0            26.5         43.0   8.430233  ...                 6.700   9.3   \n",
       "1.0            40.8         40.0  25.292500  ...                24.775  28.4   \n",
       "2.0            71.8         44.0  42.465909  ...                45.550  49.6   \n",
       "3.0            80.6         56.0  56.512500  ...                63.975  69.6   \n",
       "4.0            88.7         86.0  73.904651  ...                85.275  89.8   \n",
       "5.0            99.0         78.0  90.167949  ...                97.975  99.8   \n",
       "\n",
       "              stu_teach_ratio                                             \\\n",
       "                        count       mean        std   min     25%    50%   \n",
       "school_rating                                                              \n",
       "0.0                      43.0  13.583721   2.313823   4.7  12.600  14.10   \n",
       "1.0                      40.0  14.912500   2.748910   7.3  13.275  14.95   \n",
       "2.0                      44.0  14.434091   2.080468   9.5  12.875  14.25   \n",
       "3.0                      56.0  15.085714   1.890111  10.8  13.600  14.85   \n",
       "4.0                      86.0  15.323256   2.307057   9.8  13.900  15.10   \n",
       "5.0                      78.0  17.780769  11.017826  11.7  15.200  16.35   \n",
       "\n",
       "                              \n",
       "                  75%    max  \n",
       "school_rating                 \n",
       "0.0            14.750   18.9  \n",
       "1.0            17.125   20.5  \n",
       "2.0            15.975   19.3  \n",
       "3.0            16.500   20.0  \n",
       "4.0            16.800   22.5  \n",
       "5.0            17.400  111.0  \n",
       "\n",
       "[6 rows x 96 columns]"
      ]
     },
     "execution_count": 288,
     "metadata": {},
     "output_type": "execute_result"
    }
   ],
   "source": [
    "#Phase 2 - Group by school_rating\n",
    "df_rating = df.groupby('school_rating')\n",
    "df_rating.describe()"
   ]
  },
  {
   "cell_type": "code",
   "execution_count": 289,
   "metadata": {},
   "outputs": [
    {
     "name": "stdout",
     "output_type": "stream",
     "text": [
      "               reduced_lunch  school_rating\n",
      "reduced_lunch       1.000000      -0.815757\n",
      "school_rating      -0.815757       1.000000\n"
     ]
    }
   ],
   "source": [
    "#Phase 3 - Correlation analysis\n",
    "correlation_matrix = df[['reduced_lunch', 'school_rating']].corr(method='pearson', min_periods=1)\n",
    "print(correlation_matrix)"
   ]
  },
  {
   "cell_type": "code",
   "execution_count": 300,
   "metadata": {},
   "outputs": [
    {
     "data": {
      "image/png": "[encoded data removed]",
      "text/plain": [
       "<Figure size 432x288 with 1 Axes>"
      ]
     },
     "metadata": {
      "needs_background": "light"
     },
     "output_type": "display_data"
    }
   ],
   "source": [
    "#Phase 4 - Scatter Plot\n",
    "import matplotlib.pyplot as plt\n",
    "plt.scatter(correlation_matrix['reduced_lunch'],correlation_matrix['school_rating'], c='r')\n",
    "plt.xlabel(\"Reduced Lunch\")\n",
    "plt.ylabel(\"School Rating\")\n",
    "plt.xlim(-1,1.2)\n",
    "plt.ylim(-1,1.2)\n",
    "plt.legend()\n",
    "plt.title(\"Reduced Lunch vs School Rating\")\n",
    "plt.show()"
   ]
  },
  {
   "cell_type": "code",
   "execution_count": 293,
   "metadata": {},
   "outputs": [
    {
     "data": {
      "text/plain": [
       "<matplotlib.image.AxesImage at 0x7fba44ed5f60>"
      ]
     },
     "execution_count": 293,
     "metadata": {},
     "output_type": "execute_result"
    },
    {
     "data": {
      "image/png": "[encoded data removed]",
      "text/plain": [
       "<Figure size 288x288 with 1 Axes>"
      ]
     },
     "metadata": {
      "needs_background": "light"
     },
     "output_type": "display_data"
    }
   ],
   "source": [
    "#Phase 5 - CorrelationMatrix\n",
    "plt.matshow(df.corr())"
   ]
  }
 ],
 "metadata": {
  "kernelspec": {
   "display_name": "Python 3",
   "language": "python",
   "name": "python3"
  },
  "language_info": {
   "codemirror_mode": {
    "name": "ipython",
    "version": 3
   },
   "file_extension": ".py",
   "mimetype": "text/x-python",
   "name": "python",
   "nbconvert_exporter": "python",
   "pygments_lexer": "ipython3",
   "version": "3.7.1"
  }
 },
 "nbformat": 4,
 "nbformat_minor": 2
}
