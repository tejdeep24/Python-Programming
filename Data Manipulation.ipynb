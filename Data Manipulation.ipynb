{
 "cells": [
  {
   "cell_type": "code",
   "execution_count": null,
   "metadata": {},
   "outputs": [],
   "source": [
    "#Q1\n",
    "import pandas as pd\n",
    "hollywood_df = pd.read_csv('HollywoodMovies.csv')\n",
    "hollywood_df_story_quest = hollywood_df[hollywood_df['Story']=='Quest']\n",
    "hollywood_df_story_quest = hollywood_df_story_quest.filter(['Movie', 'RottenTomatoes']).reset_index(drop=True)\n",
    "hollywood_df_story_quest = hollywood_df_story_quest[hollywood_df_story_quest['RottenTomatoes']==min(hollywood_df_story_quest['RottenTomatoes'])]\n",
    "print('Highest Rated movie in Quest Story Type:', hollywood_df_story_quest['Movie'])"
   ]
  },
  {
   "cell_type": "code",
   "execution_count": null,
   "metadata": {},
   "outputs": [],
   "source": [
    "#Q2\n",
    "import pandas as pd\n",
    "hollywood_df = pd.read_csv('HollywoodMovies.csv')\n",
    "hollywood_df_genre = hollywood_df.groupby(['Genre'])['Movie'].count().reset_index(name = 'movie_count')\n",
    "hollywood_df_genre = hollywood_df_genre[hollywood_df_genre['movie_count']==max(hollywood_df_genre['movie_count'])]\n",
    "print('Greatest number of movie releases in:', max(hollywood_df_genre['Genre']))"
   ]
  },
  {
   "cell_type": "code",
   "execution_count": null,
   "metadata": {},
   "outputs": [],
   "source": [
    "#Q3\n",
    "import pandas as pd\n",
    "hollywood_df = pd.read_csv('HollywoodMovies.csv')\n",
    "hollywood_df['Budget'].fillna(0, inplace=True)\n",
    "hollywood_df_budget = hollywood_df.sort_values('Budget', ascending=False)\n",
    "hollywood_df_budget.head(5)['Movie']"
   ]
  },
  {
   "cell_type": "code",
   "execution_count": null,
   "metadata": {},
   "outputs": [],
   "source": [
    "#Q4\n",
    "import pandas as pd\n",
    "hollywood_df = pd.read_csv('HollywoodMovies.csv')\n",
    "hollywood_df\n",
    "hollywood_df['Profitability'].fillna(0, inplace=True)\n",
    "hollywood_df['RottenTomatoes'].fillna(0, inplace=True)\n",
    "x = hollywood_df['Profitability']\n",
    "y = hollywood_df['RottenTomatoes']\n",
    "#plot the graph now - Simple Plot\n",
    "import matplotlib.pyplot as plt\n",
    "plt.plot(x, y)\n",
    "plt.xlabel('Profitability')\n",
    "plt.ylabel('RottenTomatoes')\n",
    "plt.title('Profitability vs RottenTomatoes')\n",
    "plt.show()"
   ]
  },
  {
   "cell_type": "code",
   "execution_count": null,
   "metadata": {},
   "outputs": [],
   "source": [
    "#Q5 - 5.1\n",
    "import pandas as pd\n",
    "data_dict = {'first_name': ['Jason', 'Molly', 'Tina', 'Jake', 'Amy'],\n",
    "'last_name': ['Miller', 'Jacobson', 'Ali', 'Milner', 'Cooze'],\n",
    "'female': [0, 1, 1, 0, 1],\n",
    "'age': [42, 52, 36, 24, 73],\n",
    "'preTestScore': [4, 24, 31, \".\", \".\"],\n",
    "'postTestScore': [\"25,000\", \"94,000\", 57, 62, 70]}\n",
    "dataset = pd.DataFrame(data_dict)\n",
    "dataset"
   ]
  },
  {
   "cell_type": "code",
   "execution_count": null,
   "metadata": {},
   "outputs": [],
   "source": [
    "#5.2\n",
    "dataset.to_csv('example.csv', index=False)"
   ]
  },
  {
   "cell_type": "code",
   "execution_count": null,
   "metadata": {},
   "outputs": [],
   "source": [
    "#5.3\n",
    "import pandas as pd\n",
    "example_df = pd.read_csv('example.csv')\n",
    "example_df"
   ]
  },
  {
   "cell_type": "code",
   "execution_count": null,
   "metadata": {},
   "outputs": [],
   "source": [
    "#5.4\n",
    "import pandas as pd\n",
    "example_df = pd.read_csv('example.csv', header=None)\n",
    "example_df"
   ]
  },
  {
   "cell_type": "code",
   "execution_count": null,
   "metadata": {},
   "outputs": [],
   "source": [
    "#Question 5\n",
    "import pandas as pd\n",
    "example_df = pd.read_csv('example.csv', header='infer', index_col=[0,1])\n",
    "example_df"
   ]
  },
  {
   "cell_type": "code",
   "execution_count": null,
   "metadata": {},
   "outputs": [],
   "source": [
    "#5.6\n",
    "import pandas as pd\n",
    "example_df = pd.read_csv('example.csv', header=None)\n",
    "example_df.isna()"
   ]
  },
  {
   "cell_type": "code",
   "execution_count": null,
   "metadata": {},
   "outputs": [],
   "source": [
    "#5.7\n",
    "import pandas as pd\n",
    "example_df = pd.read_csv('example.csv', skiprows=range(1,4))\n",
    "example_df"
   ]
  },
  {
   "cell_type": "code",
   "execution_count": null,
   "metadata": {},
   "outputs": [],
   "source": [
    "#5.8\n",
    "import pandas as pd\n",
    "example_df = pd.read_csv('example.csv', delimiter=',')\n",
    "example_df"
   ]
  },
  {
   "cell_type": "code",
   "execution_count": null,
   "metadata": {},
   "outputs": [],
   "source": [
    "#Q6 - 6.1\n",
    "import pandas as pd\n",
    "import numpy as np \n",
    "my_list = ['Amit', 'Bob', 'Kate', 'A', 'b', np.nan, 'Car', 'dog', 'cat']\n",
    "my_series = pd.Series(my_list)\n",
    "#6.1 - a\n",
    "print('Lower Case', my_series.str.lower())\n",
    "#6.1 - b\n",
    "print('Upper Case', my_series.str.upper())\n",
    "#6.1 - c\n",
    "print('Length of All Elements', my_series.str.len())"
   ]
  },
  {
   "cell_type": "code",
   "execution_count": null,
   "metadata": {},
   "outputs": [],
   "source": [
    "#Q6 - 6.2\n",
    "import pandas as pd\n",
    "my_list = [' Atul', 'John ', ' jack ', 'Sam']\n",
    "my_series = pd.Series(my_list)\n",
    "#6.2 - a\n",
    "print('Strip', my_series.str.strip())\n",
    "#6.2 - b\n",
    "print('Left Strip', my_series.str.lstrip())\n",
    "#6.2 - c\n",
    "print('Right Strip', my_series.str.rstrip())"
   ]
  },
  {
   "cell_type": "code",
   "execution_count": null,
   "metadata": {},
   "outputs": [],
   "source": [
    "#Q6 - 6.3\n",
    "import pandas as pd\n",
    "import numpy as np\n",
    "my_list = ['India_is_big', 'Population_is_huge', np.nan, 'Has_diverse_culture']\n",
    "my_series = pd.Series(my_list)\n",
    "my_series = my_series.dropna()\n",
    "my_series_split = []\n",
    "for index, value in my_series.iteritems():\n",
    "    my_series_split.append(value.split('_'))\n",
    "#print(my_series_split)\n",
    "#print(my_series_split[0])\n",
    "arr = np.array(my_series_split)\n",
    "print(arr.reshape(1,9))"
   ]
  },
  {
   "cell_type": "code",
   "execution_count": null,
   "metadata": {},
   "outputs": [],
   "source": [
    "#Q6 - 6.4\n",
    "import pandas as pd\n",
    "import numpy as np\n",
    "my_list = ['A', 'B', 'C', 'AabX', 'BacX','', np.nan, 'CABA', 'dog', 'cat']\n",
    "my_series = pd.Series(my_list)\n",
    "my_series.replace(['X', 'dog'],'XX-XXX',regex=True)"
   ]
  },
  {
   "cell_type": "code",
   "execution_count": null,
   "metadata": {},
   "outputs": [],
   "source": [
    "#Q6 - 6.5\n",
    "import pandas as pd\n",
    "my_list = ['12', '-$10', '$10,000']\n",
    "my_series = pd.Series(my_list)\n",
    "print(my_series.str.replace('$', ''))"
   ]
  },
  {
   "cell_type": "code",
   "execution_count": null,
   "metadata": {},
   "outputs": [],
   "source": [
    "#Q6 - 6.6\n",
    "import pandas as pd\n",
    "import numpy as np\n",
    "my_list = ['india 1998', 'big country', np.nan]\n",
    "my_series = pd.Series(my_list)\n",
    "my_series = my_series.dropna()\n",
    "my_series_reverse = []\n",
    "for index, value in my_series.iteritems():\n",
    "    my_series_reverse.append(value[::-1])\n",
    "arr = np.array(my_series_reverse)\n",
    "print(arr)"
   ]
  },
  {
   "cell_type": "code",
   "execution_count": null,
   "metadata": {},
   "outputs": [],
   "source": [
    "#Q6 - 6.7\n",
    "import pandas as pd\n",
    "my_list = ['1', '2', '1a', '2b', '2003c']\n",
    "my_series = pd.Series(my_list)\n",
    "my_series = my_series.str.isalnum()\n",
    "my_series"
   ]
  },
  {
   "cell_type": "code",
   "execution_count": null,
   "metadata": {},
   "outputs": [],
   "source": [
    "#Q6 - 6.8\n",
    "import pandas as pd\n",
    "my_list = ['1', '2', '1a', '2b', 'America', 'VietnAm','vietnam', '2003c']\n",
    "my_series = pd.Series(my_list)\n",
    "my_series_contain = my_series.str.contains('A')\n",
    "my_series_contain"
   ]
  },
  {
   "cell_type": "code",
   "execution_count": null,
   "metadata": {},
   "outputs": [],
   "source": [
    "#Q6 - 6.9\n",
    "import pandas as pd\n",
    "my_list = ['a', 'a|b', np.nan, 'a|c']\n",
    "my_series = pd.Series(my_list)\n",
    "my_series"
   ]
  },
  {
   "cell_type": "code",
   "execution_count": null,
   "metadata": {},
   "outputs": [],
   "source": [
    "#Q6 - 6.10\n",
    "import pandas as pd\n",
    "data_dict1 = {'key': ['One', 'Two'], 'ltable': [1, 2]}\n",
    "dataset1 = pd.DataFrame(data_dict1)\n",
    "data_dict2 = {'key': ['One', 'Two'], 'rtable': [4, 5]}\n",
    "dataset2 = pd.DataFrame(data_dict2)\n",
    "dataset1.merge(dataset2 , on = 'key')"
   ]
  }
 ],
 "metadata": {
  "kernelspec": {
   "display_name": "Python 3",
   "language": "python",
   "name": "python3"
  },
  "language_info": {
   "codemirror_mode": {
    "name": "ipython",
    "version": 3
   },
   "file_extension": ".py",
   "mimetype": "text/x-python",
   "name": "python",
   "nbconvert_exporter": "python",
   "pygments_lexer": "ipython3",
   "version": "3.6.5"
  }
 },
 "nbformat": 4,
 "nbformat_minor": 2
}
